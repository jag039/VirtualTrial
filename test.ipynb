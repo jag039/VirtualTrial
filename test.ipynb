{
 "cells": [
  {
   "cell_type": "code",
   "execution_count": 1,
   "metadata": {},
   "outputs": [],
   "source": [
    "import torch"
   ]
  },
  {
   "cell_type": "code",
   "execution_count": null,
   "metadata": {},
   "outputs": [],
   "source": [
    "def test_model(model, test_loader):\n",
    "    model.eval()\n",
    "    total_loss = 0.0\n",
    "    correct_preds = 0\n",
    "    total_preds = 0\n",
    "\n",
    "    \n",
    "    with torch.no_grad():  # Disable gradient computation\n",
    "        for images, topwear_presence, bottomwear_presence, both_presence, category_id in test_loader:\n",
    "        \n",
    "            preds = model(images)\n",
    "\n",
    "            # topwear_preds = torch.round(preds[0])\n",
    "            \n",
    "            # correct_preds += torch.sum(topwear_preds == topwear_presence).item()\n",
    "            # total_preds += topwear_presence.size(0)\n",
    "            \n",
    "            # Optionally, compute loss for each batch:\n",
    "            # loss = compute_loss(preds, {\n",
    "            #     'category_id': category_id,\n",
    "            #     'topwear_presence': topwear_presence,\n",
    "            #     'bottomwear_presence': bottomwear_presence,\n",
    "            #     'both_presence': both_presence\n",
    "            # })\n",
    "            # total_loss += loss.item()\n",
    "\n",
    "\n",
    "    accuracy = correct_preds / total_preds * 100\n",
    "    print(f\"Test Accuracy: {accuracy:.2f}%\")\n",
    "    print(f\"Test Loss: {avg_loss:.4f}\")\n"
   ]
  },
  {
   "cell_type": "code",
   "execution_count": null,
   "metadata": {},
   "outputs": [],
   "source": [
    "test_loader = DataLoader(test_dataset, batch_size=1, shuffle=False)\n",
    "test_model(model, test_loader)"
   ]
  }
 ],
 "metadata": {
  "kernelspec": {
   "display_name": "Python 3.12.3 64-bit",
   "language": "python",
   "name": "python3"
  },
  "language_info": {
   "codemirror_mode": {
    "name": "ipython",
    "version": 3
   },
   "file_extension": ".py",
   "mimetype": "text/x-python",
   "name": "python",
   "nbconvert_exporter": "python",
   "pygments_lexer": "ipython3",
   "version": "3.12.3"
  },
  "orig_nbformat": 4,
  "vscode": {
   "interpreter": {
    "hash": "aee8b7b246df8f9039afb4144a1f6fd8d2ca17a180786b69acc140d282b71a49"
   }
  }
 },
 "nbformat": 4,
 "nbformat_minor": 2
}
