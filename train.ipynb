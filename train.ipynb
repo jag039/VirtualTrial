{
 "cells": [
  {
   "cell_type": "code",
   "execution_count": 1,
   "metadata": {},
   "outputs": [
    {
     "name": "stderr",
     "output_type": "stream",
     "text": [
      "/Library/Frameworks/Python.framework/Versions/3.12/lib/python3.12/site-packages/tqdm/auto.py:21: TqdmWarning: IProgress not found. Please update jupyter and ipywidgets. See https://ipywidgets.readthedocs.io/en/stable/user_install.html\n",
      "  from .autonotebook import tqdm as notebook_tqdm\n"
     ]
    }
   ],
   "source": [
    "import torch\n",
    "from torch.utils.data import DataLoader\n",
    "from models.resnet_clothing_model import ClothingClassifier\n",
    "from data.dataset import TrainGarmentDataset\n",
    "from utils.loss import compute_loss\n",
    "from utils.metrics import accuracy\n",
    "from data.dataset import TrainGarmentDataset\n",
    "from data.transformation import CustomResNetTransform\n",
    "from tqdm import tqdm"
   ]
  },
  {
   "cell_type": "code",
   "execution_count": 2,
   "metadata": {},
   "outputs": [],
   "source": [
    "# 1) Prepare Data\n",
    "train_dataset = TrainGarmentDataset(transform=CustomResNetTransform())\n",
    "train_loader = DataLoader(train_dataset, batch_size=32, shuffle=True)"
   ]
  },
  {
   "cell_type": "code",
   "execution_count": 3,
   "metadata": {},
   "outputs": [
    {
     "name": "stderr",
     "output_type": "stream",
     "text": [
      "/Library/Frameworks/Python.framework/Versions/3.12/lib/python3.12/site-packages/torchvision/models/_utils.py:208: UserWarning: The parameter 'pretrained' is deprecated since 0.13 and may be removed in the future, please use 'weights' instead.\n",
      "  warnings.warn(\n",
      "/Library/Frameworks/Python.framework/Versions/3.12/lib/python3.12/site-packages/torchvision/models/_utils.py:223: UserWarning: Arguments other than a weight enum or `None` for 'weights' are deprecated since 0.13 and may be removed in the future. The current behavior is equivalent to passing `weights=ResNet50_Weights.IMAGENET1K_V1`. You can also use `weights=ResNet50_Weights.DEFAULT` to get the most up-to-date weights.\n",
      "  warnings.warn(msg)\n"
     ]
    }
   ],
   "source": [
    "# 2) Construct loss and optimizer\n",
    "num_topwear_classes = 20\n",
    "num_bottomwear_classes = 16\n",
    "num_both_classes = 14\n",
    "\n",
    "model = ClothingClassifier( num_topwear_classes=num_topwear_classes,\n",
    "                            num_bottomwear_classes=num_bottomwear_classes, \n",
    "                            num_both_classes=num_both_classes)\n",
    "optimizer = torch.optim.Adam(model.parameters(), lr=0.001)"
   ]
  },
  {
   "cell_type": "code",
   "execution_count": 4,
   "metadata": {},
   "outputs": [
    {
     "name": "stderr",
     "output_type": "stream",
     "text": [
      "Epoch 1/10: 100%|██████████| 438/438 [54:31<00:00,  7.47s/batch]\n"
     ]
    },
    {
     "name": "stdout",
     "output_type": "stream",
     "text": [
      "Epoch [1/10], Loss: 5.9754, Accuracy: 45.51%\n"
     ]
    },
    {
     "name": "stderr",
     "output_type": "stream",
     "text": [
      "Epoch 2/10:  55%|█████▌    | 243/438 [29:06<25:17,  7.78s/batch]"
     ]
    }
   ],
   "source": [
    "# 3) Training loop\n",
    "num_epochs = 10  # Number of epochs you want to train for\n",
    "\n",
    "for epoch in range(num_epochs):\n",
    "    model.train()\n",
    "    running_loss = 0.0\n",
    "    correct_preds = 0\n",
    "    total_preds = 0\n",
    "    \n",
    "    with tqdm(train_loader, desc=f\"Epoch {epoch+1}/{num_epochs}\", unit=\"batch\") as pbar:\n",
    "        for images, topwear_presence, bottomwear_presence, both_presence, category_id in pbar:\n",
    "            # images = images.to(device)\n",
    "            # topwear_presence = topwear_presence.to(device)\n",
    "            # bottomwear_presence = bottomwear_presence.to(device)\n",
    "            # both_presence = both_presence.to(device)\n",
    "            # category_id = category_id.to(device)\n",
    "            \n",
    "            # Forward pass:\n",
    "            optimizer.zero_grad()\n",
    "            preds = model(images)\n",
    "            topwear_p, bottomwear_p, both_p, topwear_c, bottomwear_c, both_c = preds\n",
    "\n",
    "            # Compute loss\n",
    "            loss = compute_loss(preds, {\n",
    "                'category_id': category_id,\n",
    "                'topwear_presence': topwear_presence,\n",
    "                'bottomwear_presence': bottomwear_presence,\n",
    "                'both_presence': both_presence\n",
    "            })\n",
    "            \n",
    "            loss.backward()\n",
    "            optimizer.step()\n",
    "\n",
    "            # Track the loss\n",
    "            running_loss += loss.item()\n",
    "            topwear_preds = torch.round(preds[0])\n",
    "            correct_preds += torch.sum(topwear_preds == topwear_presence).item()\n",
    "            total_preds += topwear_presence.size(0)\n",
    "    avg_loss = running_loss / len(train_loader)\n",
    "    accuracy = correct_preds / total_preds * 100\n",
    "    print(f\"Epoch [{epoch + 1}/{num_epochs}], Loss: {avg_loss:.4f}, Accuracy: {accuracy:.2f}%\")"
   ]
  },
  {
   "cell_type": "code",
   "execution_count": null,
   "metadata": {},
   "outputs": [
    {
     "ename": "NameError",
     "evalue": "name 'torch' is not defined",
     "output_type": "error",
     "traceback": [
      "\u001b[0;31m---------------------------------------------------------------------------\u001b[0m",
      "\u001b[0;31mNameError\u001b[0m                                 Traceback (most recent call last)",
      "Cell \u001b[0;32mIn[1], line 1\u001b[0m\n\u001b[0;32m----> 1\u001b[0m \u001b[43mtorch\u001b[49m\u001b[38;5;241m.\u001b[39msave(model\u001b[38;5;241m.\u001b[39mstate_dict(), \u001b[38;5;124m'\u001b[39m\u001b[38;5;124mclothing_classifier.pth\u001b[39m\u001b[38;5;124m'\u001b[39m)\n",
      "\u001b[0;31mNameError\u001b[0m: name 'torch' is not defined"
     ]
    }
   ],
   "source": [
    "print(\"Training complete. Saving model...\")\n",
    "torch.save(model.state_dict(), 'clothing_classifier.pth')\n",
    "print(\"Model saved.\")"
   ]
  }
 ],
 "metadata": {
  "kernelspec": {
   "display_name": "Python 3.12.3 64-bit",
   "language": "python",
   "name": "python3"
  },
  "language_info": {
   "codemirror_mode": {
    "name": "ipython",
    "version": 3
   },
   "file_extension": ".py",
   "mimetype": "text/x-python",
   "name": "python",
   "nbconvert_exporter": "python",
   "pygments_lexer": "ipython3",
   "version": "3.12.3"
  },
  "orig_nbformat": 4,
  "vscode": {
   "interpreter": {
    "hash": "aee8b7b246df8f9039afb4144a1f6fd8d2ca17a180786b69acc140d282b71a49"
   }
  }
 },
 "nbformat": 4,
 "nbformat_minor": 2
}
