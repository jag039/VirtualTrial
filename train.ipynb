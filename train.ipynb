{
 "cells": [
  {
   "cell_type": "code",
   "execution_count": 3,
   "metadata": {},
   "outputs": [],
   "source": [
    "import torch\n",
    "from torch.utils.data import DataLoader\n",
    "from models.resnet_clothing_model import ClothingClassifier\n",
    "from data.dataset import TrainGarmentDataset\n",
    "from utils.loss import compute_loss\n",
    "from utils.metrics import accuracy\n",
    "from data.dataset import TrainGarmentDataset\n",
    "from data.transformation import CustomResNetTransform\n",
    "from tqdm import tqdm"
   ]
  },
  {
   "cell_type": "code",
   "execution_count": 4,
   "metadata": {},
   "outputs": [
    {
     "name": "stdout",
     "output_type": "stream",
     "text": [
      "14000\n",
      "img/Lace-Paneled_Maxi_Dress/img_00000049.jpg\n",
      "14000\n"
     ]
    }
   ],
   "source": [
    "# 1) Prepare Data\n",
    "train_dataset = TrainGarmentDataset(transform=CustomResNetTransform())\n",
    "train_loader = DataLoader(train_dataset, batch_size=1, shuffle=True)"
   ]
  },
  {
   "cell_type": "code",
   "execution_count": 5,
   "metadata": {},
   "outputs": [
    {
     "name": "stderr",
     "output_type": "stream",
     "text": [
      "/Library/Frameworks/Python.framework/Versions/3.12/lib/python3.12/site-packages/torchvision/models/_utils.py:208: UserWarning: The parameter 'pretrained' is deprecated since 0.13 and may be removed in the future, please use 'weights' instead.\n",
      "  warnings.warn(\n",
      "/Library/Frameworks/Python.framework/Versions/3.12/lib/python3.12/site-packages/torchvision/models/_utils.py:223: UserWarning: Arguments other than a weight enum or `None` for 'weights' are deprecated since 0.13 and may be removed in the future. The current behavior is equivalent to passing `weights=ResNet50_Weights.IMAGENET1K_V1`. You can also use `weights=ResNet50_Weights.DEFAULT` to get the most up-to-date weights.\n",
      "  warnings.warn(msg)\n"
     ]
    }
   ],
   "source": [
    "# 2) Construct loss and optimizer\n",
    "num_topwear_classes = 20\n",
    "num_bottomwear_classes = 16\n",
    "num_both_classes = 14\n",
    "\n",
    "model = ClothingClassifier( num_topwear_classes=num_topwear_classes,\n",
    "                            num_bottomwear_classes=num_bottomwear_classes, \n",
    "                            num_both_classes=num_both_classes)\n",
    "optimizer = torch.optim.Adam(model.parameters(), lr=0.001)"
   ]
  },
  {
   "cell_type": "code",
   "execution_count": 6,
   "metadata": {},
   "outputs": [
    {
     "name": "stderr",
     "output_type": "stream",
     "text": [
      "Epoch 1/10: 100%|██████████| 14000/14000 [32:56<00:00,  7.08batch/s]\n"
     ]
    },
    {
     "name": "stdout",
     "output_type": "stream",
     "text": [
      "Epoch [1/10], Loss: 3.7743, Accuracy: 54.48%\n"
     ]
    },
    {
     "name": "stderr",
     "output_type": "stream",
     "text": [
      "Epoch 2/10: 100%|██████████| 14000/14000 [34:58<00:00,  6.67batch/s] \n"
     ]
    },
    {
     "name": "stdout",
     "output_type": "stream",
     "text": [
      "Epoch [2/10], Loss: 3.7325, Accuracy: 54.49%\n"
     ]
    },
    {
     "name": "stderr",
     "output_type": "stream",
     "text": [
      "Epoch 3/10: 100%|██████████| 14000/14000 [31:32<00:00,  7.40batch/s] \n"
     ]
    },
    {
     "name": "stdout",
     "output_type": "stream",
     "text": [
      "Epoch [3/10], Loss: 3.7302, Accuracy: 54.49%\n"
     ]
    },
    {
     "name": "stderr",
     "output_type": "stream",
     "text": [
      "Epoch 4/10:  79%|███████▉  | 11045/14000 [26:41<07:38,  6.44batch/s]"
     ]
    }
   ],
   "source": [
    "# 3) Training loop\n",
    "num_epochs = 10  # Number of epochs you want to train for\n",
    "\n",
    "for epoch in range(num_epochs):\n",
    "    model.train()\n",
    "    running_loss = 0.0\n",
    "    correct_preds = 0\n",
    "    total_preds = 0\n",
    "    \n",
    "    with tqdm(train_loader, desc=f\"Epoch {epoch+1}/{num_epochs}\", unit=\"batch\") as pbar:\n",
    "        for images, topwear_presence, bottomwear_presence, both_presence, category_id in pbar:\n",
    "            # images = images.to(device)\n",
    "            # topwear_presence = topwear_presence.to(device)\n",
    "            # bottomwear_presence = bottomwear_presence.to(device)\n",
    "            # both_presence = both_presence.to(device)\n",
    "            # category_id = category_id.to(device)\n",
    "            \n",
    "            # Forward pass:\n",
    "            optimizer.zero_grad()\n",
    "            preds = model(images)\n",
    "            topwear_p, bottomwear_p, both_p, topwear_c, bottomwear_c, both_c = preds\n",
    "\n",
    "            # Compute loss\n",
    "            loss = compute_loss(preds, {\n",
    "                'category_id': category_id,\n",
    "                'topwear_presence': topwear_presence,\n",
    "                'bottomwear_presence': bottomwear_presence,\n",
    "                'both_presence': both_presence\n",
    "            })\n",
    "            \n",
    "            loss.backward()\n",
    "            optimizer.step()\n",
    "\n",
    "            # Track the loss\n",
    "            running_loss += loss.item()\n",
    "            topwear_preds = torch.round(preds[0])\n",
    "            correct_preds += torch.sum(topwear_preds == topwear_presence).item()\n",
    "            total_preds += topwear_presence.size(0)\n",
    "    avg_loss = running_loss / len(train_loader)\n",
    "    accuracy = correct_preds / total_preds * 100\n",
    "    print(f\"Epoch [{epoch + 1}/{num_epochs}], Loss: {avg_loss:.4f}, Accuracy: {accuracy:.2f}%\")"
   ]
  },
  {
   "cell_type": "code",
   "execution_count": null,
   "metadata": {},
   "outputs": [],
   "source": []
  }
 ],
 "metadata": {
  "kernelspec": {
   "display_name": "Python 3.12.3 64-bit",
   "language": "python",
   "name": "python3"
  },
  "language_info": {
   "codemirror_mode": {
    "name": "ipython",
    "version": 3
   },
   "file_extension": ".py",
   "mimetype": "text/x-python",
   "name": "python",
   "nbconvert_exporter": "python",
   "pygments_lexer": "ipython3",
   "version": "3.12.3"
  },
  "orig_nbformat": 4,
  "vscode": {
   "interpreter": {
    "hash": "aee8b7b246df8f9039afb4144a1f6fd8d2ca17a180786b69acc140d282b71a49"
   }
  }
 },
 "nbformat": 4,
 "nbformat_minor": 2
}
